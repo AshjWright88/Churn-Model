{
 "cells": [
  {
   "cell_type": "markdown",
   "id": "fa0e3da2",
   "metadata": {},
   "source": [
    "\n",
    "# Churn exploratory data analysis\n",
    "\n",
    "**Notebook objectives**\n",
    "\n",
    "- Check data quality\n",
    "- Amend any data quality issues\n",
    "- Identify trends or patterns that may help modelling\n",
    "- Provide initial insights"
   ]
  },
  {
   "cell_type": "code",
   "execution_count": 5,
   "id": "abaa4923",
   "metadata": {},
   "outputs": [],
   "source": [
    "# Import dependencies\n",
    "import numpy as np\n",
    "import pandas as pd\n",
    "import matplotlib.pyplot as plt\n",
    "import seaborn as sns\n",
    "from pandas_profiling import ProfileReport"
   ]
  },
  {
   "cell_type": "code",
   "execution_count": 2,
   "id": "dae7748f",
   "metadata": {},
   "outputs": [],
   "source": [
    "# Read in data\n",
    "df =pd.read_csv('../01 Data/raw__churn_challenge__20210821.csv')"
   ]
  },
  {
   "cell_type": "code",
   "execution_count": 3,
   "id": "3a985f1c",
   "metadata": {},
   "outputs": [],
   "source": [
    "# Generate profile using pandas profiling\n",
    "profile = ProfileReport(df, title=\"Churn Profiling Report\", explorative = True)"
   ]
  },
  {
   "cell_type": "code",
   "execution_count": 4,
   "id": "6bd1c39c",
   "metadata": {},
   "outputs": [
    {
     "data": {
      "application/vnd.jupyter.widget-view+json": {
       "model_id": "20cebab2fcb344b8b069550bb61e3ccd",
       "version_major": 2,
       "version_minor": 0
      },
      "text/plain": [
       "Summarize dataset:   0%|          | 0/34 [00:00<?, ?it/s]"
      ]
     },
     "metadata": {},
     "output_type": "display_data"
    },
    {
     "data": {
      "application/vnd.jupyter.widget-view+json": {
       "model_id": "b8044ff736ed4bf38af4dc1855b1c8a9",
       "version_major": 2,
       "version_minor": 0
      },
      "text/plain": [
       "Generate report structure:   0%|          | 0/1 [00:00<?, ?it/s]"
      ]
     },
     "metadata": {},
     "output_type": "display_data"
    },
    {
     "data": {
      "application/vnd.jupyter.widget-view+json": {
       "model_id": "",
       "version_major": 2,
       "version_minor": 0
      },
      "text/plain": [
       "Render widgets:   0%|          | 0/1 [00:00<?, ?it/s]"
      ]
     },
     "metadata": {},
     "output_type": "display_data"
    },
    {
     "data": {
      "application/vnd.jupyter.widget-view+json": {
       "model_id": "12fe89da50034e3c8cb73587e764171b",
       "version_major": 2,
       "version_minor": 0
      },
      "text/plain": [
       "VBox(children=(Tab(children=(Tab(children=(GridBox(children=(VBox(children=(GridspecLayout(children=(HTML(valu…"
      ]
     },
     "metadata": {},
     "output_type": "display_data"
    }
   ],
   "source": [
    "# Display profile in notebook\n",
    "profile.to_widgets()"
   ]
  },
  {
   "cell_type": "code",
   "execution_count": null,
   "id": "21c2de4e",
   "metadata": {},
   "outputs": [],
   "source": []
  }
 ],
 "metadata": {
  "kernelspec": {
   "display_name": "ML environment",
   "language": "python",
   "name": "mlenv"
  },
  "language_info": {
   "codemirror_mode": {
    "name": "ipython",
    "version": 3
   },
   "file_extension": ".py",
   "mimetype": "text/x-python",
   "name": "python",
   "nbconvert_exporter": "python",
   "pygments_lexer": "ipython3",
   "version": "3.8.8"
  }
 },
 "nbformat": 4,
 "nbformat_minor": 5
}
